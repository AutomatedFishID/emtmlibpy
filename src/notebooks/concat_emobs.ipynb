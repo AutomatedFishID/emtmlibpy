{
 "cells": [
  {
   "cell_type": "code",
   "execution_count": 3,
   "metadata": {},
   "outputs": [],
   "source": [
    "\n",
    "#rest of your code."
   ]
  },
  {
   "cell_type": "code",
   "execution_count": 5,
   "metadata": {},
   "outputs": [],
   "source": [
    "\n",
    "from dotenv import load_dotenv\n",
    "load_dotenv() #loads the env variables from the .env file\n",
    "\n",
    "import os, sys\n",
    "sys.path.append(\"..\")\n",
    "import emtmlibpy.emtmlibpy as emtm"
   ]
  },
  {
   "cell_type": "code",
   "execution_count": 6,
   "metadata": {},
   "outputs": [],
   "source": [
    "key1 = os.environ[\"EMTMLIB_KEY1\"]\n",
    "key2 = os.environ[\"EMTMLIB_KEY2\"]\n",
    "success = emtm.emtm_set_licence_keys(key1, key2)\n",
    "assert success, \"Error setting EMTMlib licence keys\""
   ]
  },
  {
   "cell_type": "code",
   "execution_count": 8,
   "metadata": {},
   "outputs": [
    {
     "name": "stdout",
     "output_type": "stream",
     "text": [
      "(4, 0)\n"
     ]
    }
   ],
   "source": [
    "print(emtm.emtm_version())"
   ]
  },
  {
   "cell_type": "code",
   "execution_count": 17,
   "metadata": {},
   "outputs": [],
   "source": [
    "em_files = ['/home/marrabld/projects/emtmlibpy/src/test_files/dpird/emobsforstitching/stitch_test_1.EMObs',\n",
    "            '/home/marrabld/projects/emtmlibpy/src/test_files/dpird/emobsforstitching/stitch_test_2.EMObs',\n",
    "            '/home/marrabld/projects/emtmlibpy/src/test_files/dpird/emobsforstitching/stitch_test_3.EMObs']"
   ]
  },
  {
   "cell_type": "code",
   "execution_count": 20,
   "metadata": {},
   "outputs": [
    {
     "name": "stdout",
     "output_type": "stream",
     "text": [
      "number of points :: 3\n",
      "number of boxes :: 3\n",
      "number of points :: 3\n",
      "number of boxes :: 3\n",
      "number of points :: 6\n",
      "number of boxes :: 6\n"
     ]
    }
   ],
   "source": [
    "for ii, em_file in enumerate(em_files):\n",
    "    r = emtm.em_load_data(filename=em_file, em_file_id=ii)\n",
    "    point_count, box_count = emtm.em_point_count(em_file_id=ii)\n",
    "    print(f'number of points :: {point_count}')\n",
    "    print(f'number of boxes :: {box_count}')"
   ]
  },
  {
   "cell_type": "code",
   "execution_count": 24,
   "metadata": {},
   "outputs": [
    {
     "name": "stdout",
     "output_type": "stream",
     "text": [
      "[('elasmobranch', 'na', 'gummywhiskery')]\n"
     ]
    }
   ],
   "source": [
    "# this needs to be called first to generate the list\n",
    "n_fgs = emtm.em_unique_fgs(em_file_id=0)\n",
    "fgs = []\n",
    "\n",
    "for ii in range(n_fgs):\n",
    "    fgs.append(emtm.em_get_unique_fgs(n_index=ii, em_file_id=0))\n",
    "\n",
    "print(fgs)"
   ]
  },
  {
   "cell_type": "code",
   "execution_count": 25,
   "metadata": {},
   "outputs": [],
   "source": [
    "sf = emtm.em_create(em_file_id=3)"
   ]
  },
  {
   "cell_type": "code",
   "execution_count": 26,
   "metadata": {},
   "outputs": [
    {
     "name": "stdout",
     "output_type": "stream",
     "text": [
      "<emtmlibpy.emtmlibpy.EmPointData object at 0x77aac8b78750>\n"
     ]
    }
   ],
   "source": [
    "data = emtm.em_get_point(em_file_id=0, n_index=0)\n",
    "print(data)"
   ]
  },
  {
   "cell_type": "code",
   "execution_count": 27,
   "metadata": {},
   "outputs": [],
   "source": [
    "r = emtm.em_add_point(em_file_id=3, data=data)\n"
   ]
  },
  {
   "cell_type": "code",
   "execution_count": 35,
   "metadata": {},
   "outputs": [
    {
     "name": "stdout",
     "output_type": "stream",
     "text": [
      "b'12489_C3H_23.12.30_0609.mp4' 3636 b'GummyWhiskery'\n",
      "b'12489_C3H_23.12.30_0609.mp4' 3722 b'GummyWhiskery'\n",
      "b'12489_C3H_23.12.30_0609.mp4' 7348 b'GummyWhiskery'\n",
      "b'12489_C3H_23.12.30_0639.mp4' 3606 b'hubbsi'\n",
      "b'12489_C3H_23.12.30_0639.mp4' 10819 b'dactyliophorus'\n",
      "b'12489_C3H_23.12.30_0639.mp4' 14418 b'yaeyamaensis'\n",
      "b'12489_C3H_23.12.30_0709.mp4' 3607 b'faber'\n",
      "b'12489_C3H_23.12.30_0709.mp4' 3607 b'gabrieli'\n",
      "b'12489_C3H_23.12.30_0709.mp4' 7207 b'sabex'\n",
      "b'12489_C3H_23.12.30_0709.mp4' 7207 b'faber'\n",
      "b'12489_C3H_23.12.30_0709.mp4' 10807 b'paccagnellae'\n",
      "b'12489_C3H_23.12.30_0709.mp4' 14407 b'oyena'\n"
     ]
    }
   ],
   "source": [
    "sf = emtm.em_create(em_file_id=4)\n",
    "\n",
    "for ii, em_file in enumerate(em_files):\n",
    "    r = emtm.em_load_data(filename=em_file, em_file_id=ii)\n",
    "    point_count, box_count = emtm.em_point_count(em_file_id=ii)\n",
    "    for jj in range(box_count):\n",
    "        r = emtm.em_get_point(em_file_id=ii, n_index=jj)\n",
    "        print(r.str_filename, r.n_frame, r.str_species)\n",
    "        r = emtm.em_add_point(em_file_id=4, data=data)\n",
    "\n"
   ]
  },
  {
   "cell_type": "code",
   "execution_count": 32,
   "metadata": {},
   "outputs": [
    {
     "data": {
      "text/plain": [
       "0"
      ]
     },
     "execution_count": 32,
     "metadata": {},
     "output_type": "execute_result"
    }
   ],
   "source": [
    "emtm.em_write_data(em_file_id=4, filename='concat_emobs.EMObs')\n"
   ]
  },
  {
   "cell_type": "code",
   "execution_count": 36,
   "metadata": {},
   "outputs": [],
   "source": [
    "def concat_emobs(files: list, output_file: str):\n",
    "    \"\"\"\n",
    "    Given a list of emobs files, concatenate them and save as the new output file. \n",
    "\n",
    "    Requires write access in the licence file. \n",
    "    \"\"\"\n",
    "    DEBUG = True\n",
    "    num_files = len(files)\n",
    "    out_file_id = num_files + 1\n",
    "\n",
    "    sf = emtm.em_create(em_file_id=4)\n",
    "\n",
    "    for in_file_id, em_file in enumerate(em_files):\n",
    "        print(f'getting points for {em_file}')\n",
    "        r = emtm.em_load_data(filename=em_file, em_file_id=in_file_id)\n",
    "        point_count, box_count = emtm.em_point_count(em_file_id=in_file_id)\n",
    "        for jj in range(box_count):\n",
    "            r = emtm.em_get_point(em_file_id=in_file_id, n_index=jj)\n",
    "            if DEBUG:\n",
    "                print(f'file : {r.str_filename} frame : {r.n_frame} species : {r.str_species}')\n",
    "            r = emtm.em_add_point(em_file_id=out_file_id, data=data)\n",
    "\n",
    "    print(f'writing to file {output_file}')\n",
    "    emtm.em_write_data(out_file_id, output_file)\n",
    "    \n",
    "\n"
   ]
  },
  {
   "cell_type": "code",
   "execution_count": 37,
   "metadata": {},
   "outputs": [
    {
     "name": "stdout",
     "output_type": "stream",
     "text": [
      "getting points for /home/marrabld/projects/emtmlibpy/src/test_files/dpird/emobsforstitching/stitch_test_1.EMObs\n",
      "file : b'12489_C3H_23.12.30_0609.mp4' frame : 3636 species : b'GummyWhiskery'\n",
      "file : b'12489_C3H_23.12.30_0609.mp4' frame : 3722 species : b'GummyWhiskery'\n",
      "file : b'12489_C3H_23.12.30_0609.mp4' frame : 7348 species : b'GummyWhiskery'\n",
      "getting points for /home/marrabld/projects/emtmlibpy/src/test_files/dpird/emobsforstitching/stitch_test_2.EMObs\n",
      "file : b'12489_C3H_23.12.30_0639.mp4' frame : 3606 species : b'hubbsi'\n",
      "file : b'12489_C3H_23.12.30_0639.mp4' frame : 10819 species : b'dactyliophorus'\n",
      "file : b'12489_C3H_23.12.30_0639.mp4' frame : 14418 species : b'yaeyamaensis'\n",
      "getting points for /home/marrabld/projects/emtmlibpy/src/test_files/dpird/emobsforstitching/stitch_test_3.EMObs\n",
      "file : b'12489_C3H_23.12.30_0709.mp4' frame : 3607 species : b'faber'\n",
      "file : b'12489_C3H_23.12.30_0709.mp4' frame : 3607 species : b'gabrieli'\n",
      "file : b'12489_C3H_23.12.30_0709.mp4' frame : 7207 species : b'sabex'\n",
      "file : b'12489_C3H_23.12.30_0709.mp4' frame : 7207 species : b'faber'\n",
      "file : b'12489_C3H_23.12.30_0709.mp4' frame : 10807 species : b'paccagnellae'\n",
      "file : b'12489_C3H_23.12.30_0709.mp4' frame : 14407 species : b'oyena'\n",
      "writing to file test_out.EMObs\n"
     ]
    }
   ],
   "source": [
    "concat_emobs(em_files, \"test_out.EMObs\")"
   ]
  },
  {
   "cell_type": "code",
   "execution_count": null,
   "metadata": {},
   "outputs": [],
   "source": []
  }
 ],
 "metadata": {
  "kernelspec": {
   "display_name": "emtmlib",
   "language": "python",
   "name": "python3"
  },
  "language_info": {
   "codemirror_mode": {
    "name": "ipython",
    "version": 3
   },
   "file_extension": ".py",
   "mimetype": "text/x-python",
   "name": "python",
   "nbconvert_exporter": "python",
   "pygments_lexer": "ipython3",
   "version": "3.13.2"
  }
 },
 "nbformat": 4,
 "nbformat_minor": 2
}
