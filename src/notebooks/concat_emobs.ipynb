{
 "cells": [
  {
   "cell_type": "code",
   "execution_count": null,
   "metadata": {},
   "outputs": [],
   "source": [
    "from dotenv import load_dotenv\n",
    "load_dotenv() #loads the env variables from the .env file\n",
    "\n",
    "import os, sys\n",
    "sys.path.append(\"..\")\n",
    "import emtmlibpy.emtmlibpy as emtm\n",
    "from pathlib import Path\n",
    "\n",
    "import os"
   ]
  },
  {
   "cell_type": "code",
   "execution_count": null,
   "metadata": {},
   "outputs": [],
   "source": [
    "key1 = os.environ[\"EMTMLIB_KEY1\"]\n",
    "key2 = os.environ[\"EMTMLIB_KEY2\"]\n",
    "success = emtm.emtm_set_licence_keys(key1, key2)\n",
    "assert success, \"Error setting EMTMlib licence keys\""
   ]
  },
  {
   "cell_type": "code",
   "execution_count": null,
   "metadata": {},
   "outputs": [],
   "source": [
    "print(emtm.emtm_version())"
   ]
  },
  {
   "cell_type": "code",
   "execution_count": null,
   "metadata": {},
   "outputs": [],
   "source": [
    "def longest_common_substring(strings):\n",
    "    \"\"\"Find the longest common starting substring from a list of strings.\"\"\"\n",
    "    if not strings:\n",
    "        return ''\n",
    "    shortest = min(strings, key=len)\n",
    "    for i in range(len(shortest)):\n",
    "        for other in strings:\n",
    "            if other[i] != shortest[i]:\n",
    "                return shortest[:i]\n",
    "    return shortest\n"
   ]
  },
  {
   "cell_type": "code",
   "execution_count": null,
   "metadata": {},
   "outputs": [],
   "source": [
    "def concat_emobs(files: list[Path], output_file: str = None):\n",
    "    \"\"\"\n",
    "    Given a list of emobs files, concatenate them and save as a new output file.\n",
    "    If output_file is None, generate a filename based on common parts of input names.\n",
    "\n",
    "    Requires write access in the licence file.\n",
    "    \"\"\"\n",
    "    DEBUG = True\n",
    "    num_files = len(files)\n",
    "    out_file_id = num_files\n",
    "\n",
    "    # Determine output path\n",
    "    parent_dir = files[0].parent\n",
    "    filenames = [f.stem for f in files]  # remove .emobs\n",
    "    prefix = longest_common_substring(filenames).rstrip('_')\n",
    "    if not output_file:\n",
    "        output_file = f\"{prefix}_merged.emobs\"\n",
    "    output_path = parent_dir / output_file\n",
    "\n",
    "    # Create and populate the output emobs file\n",
    "    emtm.em_create(em_file_id=out_file_id)\n",
    "\n",
    "    for in_file_id, em_file in enumerate(files):\n",
    "        print(f'Getting points for {em_file}')\n",
    "        emtm.em_load_data(filename=str(em_file), em_file_id=in_file_id)\n",
    "        _, box_count = emtm.em_point_count(em_file_id=in_file_id)\n",
    "\n",
    "        for jj in range(box_count):\n",
    "            data = emtm.em_get_point(em_file_id=in_file_id, n_index=jj)\n",
    "            if DEBUG:\n",
    "                print(f'file: {data.str_filename}, frame: {data.n_frame}, species: {data.str_species}')\n",
    "            emtm.em_add_point(em_file_id=out_file_id, data=data)\n",
    "\n",
    "    print(f'Writing to file: {output_path}')\n",
    "    return emtm.em_write_data(em_file_id=out_file_id, filename=str(output_path))\n",
    "\n",
    "\n",
    "\n"
   ]
  },
  {
   "cell_type": "code",
   "execution_count": null,
   "metadata": {},
   "outputs": [],
   "source": [
    "input_dir = Path('/home/marrabld/projects/emtmlibpy/src/data/dpird/250618/batch2')\n",
    "emobs_files = sorted(input_dir.glob('*.emobs'))\n",
    "\n",
    "concat_emobs(emobs_files)\n",
    "\n"
   ]
  },
  {
   "cell_type": "code",
   "execution_count": null,
   "metadata": {},
   "outputs": [],
   "source": []
  }
 ],
 "metadata": {
  "kernelspec": {
   "display_name": "Python 3 (ipykernel)",
   "language": "python",
   "name": "python3"
  },
  "language_info": {
   "codemirror_mode": {
    "name": "ipython",
    "version": 3
   },
   "file_extension": ".py",
   "mimetype": "text/x-python",
   "name": "python",
   "nbconvert_exporter": "python",
   "pygments_lexer": "ipython3",
   "version": "3.10.17"
  }
 },
 "nbformat": 4,
 "nbformat_minor": 4
}
