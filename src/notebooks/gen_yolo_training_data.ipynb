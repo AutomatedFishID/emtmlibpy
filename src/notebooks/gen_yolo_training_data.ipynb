{
 "cells": [
  {
   "cell_type": "markdown",
   "source": [
    "# An example notebook how to generate training data for YOLOv5 from an .EMObs file"
   ],
   "metadata": {
    "collapsed": false,
    "pycharm": {
     "name": "#%% md\n"
    }
   }
  },
  {
   "cell_type": "code",
   "execution_count": 30,
   "outputs": [],
   "source": [
    "import os, sys\n",
    "sys.path.append(\"..\")\n",
    "\n",
    "import emtmlibpy.emtmlibpy as emtm\n",
    "from emtmlibpy.emtmlibpy import EMTMResult\n",
    "\n",
    "import pandas as pd\n"
   ],
   "metadata": {
    "collapsed": false,
    "pycharm": {
     "name": "#%%\n"
    }
   }
  },
  {
   "cell_type": "code",
   "execution_count": 25,
   "outputs": [],
   "source": [
    "SRC_DIR = os.path.abspath(os.getcwd())\n",
    "TEST_FILES_PATH = os.path.join(SRC_DIR, '..', 'test_files')"
   ],
   "metadata": {
    "collapsed": false,
    "pycharm": {
     "name": "#%%\n"
    }
   }
  },
  {
   "cell_type": "markdown",
   "source": [
    "### Sanity check that we can read the library"
   ],
   "metadata": {
    "collapsed": false,
    "pycharm": {
     "name": "#%% md\n"
    }
   }
  },
  {
   "cell_type": "code",
   "execution_count": 26,
   "outputs": [
    {
     "name": "stdout",
     "output_type": "stream",
     "text": [
      "(2, 0)\n"
     ]
    }
   ],
   "source": [
    "print(emtm.emtm_version())"
   ],
   "metadata": {
    "collapsed": false,
    "pycharm": {
     "name": "#%%\n"
    }
   }
  },
  {
   "cell_type": "markdown",
   "source": [
    "### Load the .EMObs files"
   ],
   "metadata": {
    "collapsed": false,
    "pycharm": {
     "name": "#%% md\n"
    }
   }
  },
  {
   "cell_type": "code",
   "execution_count": 29,
   "outputs": [],
   "source": [
    "r = emtm.em_load_data(os.path.join(TEST_FILES_PATH, 'Test.EMObs'))\n",
    "assert EMTMResult(r) == EMTMResult(0)"
   ],
   "metadata": {
    "collapsed": false,
    "pycharm": {
     "name": "#%%\n"
    }
   }
  },
  {
   "cell_type": "markdown",
   "source": [
    "Load the data in Test.EMObs into a dataframe"
   ],
   "metadata": {
    "collapsed": false,
    "pycharm": {
     "name": "#%% md\n"
    }
   }
  },
  {
   "cell_type": "code",
   "execution_count": 33,
   "outputs": [
    {
     "name": "stdout",
     "output_type": "stream",
     "text": [
      "[(b'', b'', b''), (b'balistidae', b'abalistes', b'stellatus'), (b'nemipteridae', b'nemipterus', b'furcosus'), (b'nemipteridae', b'pentapodus', b'porosus'), (b'pinguipedidae', b'parapercis', b'xanthozona'), (b'scombridae', b'scomberomorus', b'queenslandicus')]\n"
     ]
    }
   ],
   "source": [
    "# this needs to be called first to generate the list\n",
    "n_fgs = emtm.em_unique_fgs()\n",
    "fgs = []\n",
    "\n",
    "for ii in range(n_fgs):\n",
    "    fgs.append(emtm.em_get_unique_fgs(ii))\n",
    "\n",
    "print(fgs)"
   ],
   "metadata": {
    "collapsed": false,
    "pycharm": {
     "name": "#%%\n"
    }
   }
  },
  {
   "cell_type": "code",
   "execution_count": 38,
   "outputs": [
    {
     "name": "stdout",
     "output_type": "stream",
     "text": [
      "-107.79309645925107 263.5855864234734 -1935.0922608709202\n"
     ]
    }
   ],
   "source": [
    "point_count = emtm.em_3d_point_count()\n",
    "p = emtm.em_get_3d_point(0)\n",
    "\n",
    "print(p.dx, p.dy, p.dz)"
   ],
   "metadata": {
    "collapsed": false,
    "pycharm": {
     "name": "#%%\n"
    }
   }
  },
  {
   "cell_type": "code",
   "execution_count": 39,
   "outputs": [
    {
     "data": {
      "text/plain": "b'Pinguipedidae'"
     },
     "execution_count": 39,
     "metadata": {},
     "output_type": "execute_result"
    }
   ],
   "source": [
    "p.str_family"
   ],
   "metadata": {
    "collapsed": false,
    "pycharm": {
     "name": "#%%\n"
    }
   }
  },
  {
   "cell_type": "code",
   "execution_count": null,
   "outputs": [],
   "source": [],
   "metadata": {
    "collapsed": false,
    "pycharm": {
     "name": "#%%\n"
    }
   }
  }
 ],
 "metadata": {
  "kernelspec": {
   "display_name": "Python 3",
   "language": "python",
   "name": "python3"
  },
  "language_info": {
   "codemirror_mode": {
    "name": "ipython",
    "version": 2
   },
   "file_extension": ".py",
   "mimetype": "text/x-python",
   "name": "python",
   "nbconvert_exporter": "python",
   "pygments_lexer": "ipython2",
   "version": "2.7.6"
  }
 },
 "nbformat": 4,
 "nbformat_minor": 0
}