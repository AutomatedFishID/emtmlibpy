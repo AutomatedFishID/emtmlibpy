{
 "cells": [
  {
   "cell_type": "markdown",
   "source": [
    "# An example notebook how to generate training data for YOLOv5 from an .EMObs file"
   ],
   "metadata": {
    "collapsed": false,
    "pycharm": {
     "name": "#%% md\n"
    }
   }
  },
  {
   "cell_type": "code",
   "execution_count": 1,
   "outputs": [],
   "source": [
    "import os, sys\n",
    "sys.path.append(\"..\")\n",
    "\n",
    "import emtmlibpy.emtmlibpy as emtm\n",
    "from emtmlibpy.emtmlibpy import EMTMResult\n",
    "\n",
    "import numpy as np\n",
    "import pandas as pd\n"
   ],
   "metadata": {
    "collapsed": false,
    "pycharm": {
     "name": "#%%\n"
    }
   }
  },
  {
   "cell_type": "code",
   "execution_count": 2,
   "outputs": [],
   "source": [
    "SRC_DIR = os.path.abspath(os.getcwd())\n",
    "TEST_FILES_PATH = os.path.join(SRC_DIR, '..', 'test_files')"
   ],
   "metadata": {
    "collapsed": false,
    "pycharm": {
     "name": "#%%\n"
    }
   }
  },
  {
   "cell_type": "markdown",
   "source": [
    "### Sanity check that we can read the library"
   ],
   "metadata": {
    "collapsed": false,
    "pycharm": {
     "name": "#%% md\n"
    }
   }
  },
  {
   "cell_type": "code",
   "execution_count": 3,
   "outputs": [
    {
     "name": "stdout",
     "output_type": "stream",
     "text": [
      "(2, 0)\n"
     ]
    }
   ],
   "source": [
    "print(emtm.emtm_version())"
   ],
   "metadata": {
    "collapsed": false,
    "pycharm": {
     "name": "#%%\n"
    }
   }
  },
  {
   "cell_type": "markdown",
   "source": [
    "### Load the .EMObs files"
   ],
   "metadata": {
    "collapsed": false,
    "pycharm": {
     "name": "#%% md\n"
    }
   }
  },
  {
   "cell_type": "code",
   "execution_count": 4,
   "outputs": [],
   "source": [
    "r = emtm.em_load_data(os.path.join(TEST_FILES_PATH, 'Test.EMObs'))\n",
    "assert EMTMResult(r) == EMTMResult(0)"
   ],
   "metadata": {
    "collapsed": false,
    "pycharm": {
     "name": "#%%\n"
    }
   }
  },
  {
   "cell_type": "markdown",
   "source": [
    "Load the data in Test.EMObs into a dataframe"
   ],
   "metadata": {
    "collapsed": false,
    "pycharm": {
     "name": "#%% md\n"
    }
   }
  },
  {
   "cell_type": "code",
   "execution_count": 5,
   "outputs": [
    {
     "name": "stdout",
     "output_type": "stream",
     "text": [
      "[(b'', b'', b''), (b'balistidae', b'abalistes', b'stellatus'), (b'nemipteridae', b'nemipterus', b'furcosus'), (b'nemipteridae', b'pentapodus', b'porosus'), (b'pinguipedidae', b'parapercis', b'xanthozona'), (b'scombridae', b'scomberomorus', b'queenslandicus')]\n"
     ]
    }
   ],
   "source": [
    "# this needs to be called first to generate the list\n",
    "n_fgs = emtm.em_unique_fgs()\n",
    "fgs = []\n",
    "\n",
    "for ii in range(n_fgs):\n",
    "    fgs.append(emtm.em_get_unique_fgs(ii))\n",
    "\n",
    "print(fgs)"
   ],
   "metadata": {
    "collapsed": false,
    "pycharm": {
     "name": "#%%\n"
    }
   }
  },
  {
   "cell_type": "code",
   "execution_count": 6,
   "outputs": [],
   "source": [
    "def xyz_point_to_df():\n",
    "    \"\"\"\n",
    "    Given an EM3DPointData return a pandas dataframe\n",
    "    :return: a pandas dataframe\n",
    "    \"\"\"\n",
    "    point_count = emtm.em_3d_point_count()\n",
    "    p = emtm.em_get_3d_point(0)\n",
    "    index = [attr for attr in dir(p) if (not attr.startswith('__') and not attr.startswith('_'))]\n",
    "    data = np.empty(shape=[point_count, len(index)], dtype='|S1024')  # change these\n",
    "\n",
    "    for jj in range(point_count):\n",
    "        p = emtm.em_get_3d_point(jj)\n",
    "        for ii, ind in enumerate(index):\n",
    "            data[jj][ii] = p.__getattribute__(ind)\n",
    "\n",
    "    return pd.DataFrame(data=data, columns=index)\n"
   ],
   "metadata": {
    "collapsed": false,
    "pycharm": {
     "name": "#%%\n"
    }
   }
  },
  {
   "cell_type": "code",
   "execution_count": 7,
   "outputs": [],
   "source": [
    "p = xyz_point_to_df()"
   ],
   "metadata": {
    "collapsed": false,
    "pycharm": {
     "name": "#%%\n"
    }
   }
  },
  {
   "cell_type": "code",
   "execution_count": 8,
   "outputs": [
    {
     "data": {
      "text/plain": "             d_direction             d_imx_left           d_imx_right  \\\n0   b'8.441783313318227'   b'743.2100840336134'  b'849.4957983193277'   \n1  b'10.234504387632896'  b'198.15126050420167'  b'630.7563025210084'   \n\n             d_imy_left           d_imy_right d_period_time_mins  \\\n0  b'841.5858208955224'  b'829.6679104477612'            b'-1.0'   \n1  b'556.1194029850747'  b'519.8507462686567'            b'-1.0'   \n\n                 d_range                  d_rms            d_time_mins  \\\n0  b'1955.9342450851996'  b'0.7913513948160356'   b'7.351333333333333'   \n1  b'1238.4819331917604'  b'1.1620835816700836'  b'23.507333333333335'   \n\n                     dsx  ... str_comment        str_family  \\\n0  b'0.8858858156953887'  ...         b''  b'Pinguipedidae'   \n1  b'0.6271794475200771'  ...         b''   b'Nemipteridae'   \n\n    str_filename_left  str_filename_right      str_genus str_number  \\\n0  b'C1_39_Cam23.mpg'  b'C1_39_Cam24.mpg'  b'Parapercis'       b'1'   \n1  b'C1_39_Cam23.mpg'  b'C1_39_Cam24.mpg'  b'Nemipterus'       b'1'   \n\n  str_op_code str_period    str_species str_stage  \n0     b'Test'        b''  b'xanthozona'     b'AD'  \n1     b'Test'        b''    b'furcosus'     b'AD'  \n\n[2 rows x 31 columns]",
      "text/html": "<div>\n<style scoped>\n    .dataframe tbody tr th:only-of-type {\n        vertical-align: middle;\n    }\n\n    .dataframe tbody tr th {\n        vertical-align: top;\n    }\n\n    .dataframe thead th {\n        text-align: right;\n    }\n</style>\n<table border=\"1\" class=\"dataframe\">\n  <thead>\n    <tr style=\"text-align: right;\">\n      <th></th>\n      <th>d_direction</th>\n      <th>d_imx_left</th>\n      <th>d_imx_right</th>\n      <th>d_imy_left</th>\n      <th>d_imy_right</th>\n      <th>d_period_time_mins</th>\n      <th>d_range</th>\n      <th>d_rms</th>\n      <th>d_time_mins</th>\n      <th>dsx</th>\n      <th>...</th>\n      <th>str_comment</th>\n      <th>str_family</th>\n      <th>str_filename_left</th>\n      <th>str_filename_right</th>\n      <th>str_genus</th>\n      <th>str_number</th>\n      <th>str_op_code</th>\n      <th>str_period</th>\n      <th>str_species</th>\n      <th>str_stage</th>\n    </tr>\n  </thead>\n  <tbody>\n    <tr>\n      <th>0</th>\n      <td>b'8.441783313318227'</td>\n      <td>b'743.2100840336134'</td>\n      <td>b'849.4957983193277'</td>\n      <td>b'841.5858208955224'</td>\n      <td>b'829.6679104477612'</td>\n      <td>b'-1.0'</td>\n      <td>b'1955.9342450851996'</td>\n      <td>b'0.7913513948160356'</td>\n      <td>b'7.351333333333333'</td>\n      <td>b'0.8858858156953887'</td>\n      <td>...</td>\n      <td>b''</td>\n      <td>b'Pinguipedidae'</td>\n      <td>b'C1_39_Cam23.mpg'</td>\n      <td>b'C1_39_Cam24.mpg'</td>\n      <td>b'Parapercis'</td>\n      <td>b'1'</td>\n      <td>b'Test'</td>\n      <td>b''</td>\n      <td>b'xanthozona'</td>\n      <td>b'AD'</td>\n    </tr>\n    <tr>\n      <th>1</th>\n      <td>b'10.234504387632896'</td>\n      <td>b'198.15126050420167'</td>\n      <td>b'630.7563025210084'</td>\n      <td>b'556.1194029850747'</td>\n      <td>b'519.8507462686567'</td>\n      <td>b'-1.0'</td>\n      <td>b'1238.4819331917604'</td>\n      <td>b'1.1620835816700836'</td>\n      <td>b'23.507333333333335'</td>\n      <td>b'0.6271794475200771'</td>\n      <td>...</td>\n      <td>b''</td>\n      <td>b'Nemipteridae'</td>\n      <td>b'C1_39_Cam23.mpg'</td>\n      <td>b'C1_39_Cam24.mpg'</td>\n      <td>b'Nemipterus'</td>\n      <td>b'1'</td>\n      <td>b'Test'</td>\n      <td>b''</td>\n      <td>b'furcosus'</td>\n      <td>b'AD'</td>\n    </tr>\n  </tbody>\n</table>\n<p>2 rows × 31 columns</p>\n</div>"
     },
     "execution_count": 8,
     "metadata": {},
     "output_type": "execute_result"
    }
   ],
   "source": [
    "p"
   ],
   "metadata": {
    "collapsed": false,
    "pycharm": {
     "name": "#%%\n"
    }
   }
  }
 ],
 "metadata": {
  "kernelspec": {
   "display_name": "Python 3",
   "language": "python",
   "name": "python3"
  },
  "language_info": {
   "codemirror_mode": {
    "name": "ipython",
    "version": 2
   },
   "file_extension": ".py",
   "mimetype": "text/x-python",
   "name": "python",
   "nbconvert_exporter": "python",
   "pygments_lexer": "ipython2",
   "version": "2.7.6"
  }
 },
 "nbformat": 4,
 "nbformat_minor": 0
}