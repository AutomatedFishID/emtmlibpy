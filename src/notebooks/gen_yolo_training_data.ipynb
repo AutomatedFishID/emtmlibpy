{
 "cells": [
  {
   "cell_type": "markdown",
   "source": [
    "# An example notebook how to generate training data for YOLOv5 from an .EMObs file"
   ],
   "metadata": {
    "collapsed": false,
    "pycharm": {
     "name": "#%% md\n"
    }
   }
  },
  {
   "cell_type": "code",
   "execution_count": 1,
   "outputs": [],
   "source": [
    "import os, sys\n",
    "from typing import Any\n",
    "import cv2\n",
    "\n",
    "from pandas import Series, DataFrame\n",
    "from pandas.core.generic import NDFrame\n",
    "\n",
    "sys.path.append(\"..\")\n",
    "\n",
    "import emtmlibpy.emtmlibpy as emtm\n",
    "from emtmlibpy.emtmlibpy import EMTMResult\n",
    "\n",
    "import numpy as np\n",
    "import pandas as pd\n",
    "from collections import namedtuple"
   ],
   "metadata": {
    "collapsed": false,
    "pycharm": {
     "name": "#%%\n"
    }
   }
  },
  {
   "cell_type": "markdown",
   "source": [
    "### Change this next cell to the path that has the .emobs and video files."
   ],
   "metadata": {
    "collapsed": false,
    "pycharm": {
     "name": "#%% md\n"
    }
   }
  },
  {
   "cell_type": "code",
   "execution_count": 3,
   "outputs": [],
   "source": [
    "SRC_DIR = os.path.abspath(os.getcwd())\n",
    "TEST_FILES_PATH = os.path.join(SRC_DIR, '..', 'test_files')"
   ],
   "metadata": {
    "collapsed": false,
    "pycharm": {
     "name": "#%%\n"
    }
   }
  },
  {
   "cell_type": "code",
   "execution_count": 66,
   "outputs": [],
   "source": [
    "TEST_FILES_PATH = '/home/marrabld/data/test_emobs/emtmlibpy'\n",
    "TEST_FILE = 'afid.EMObs'"
   ],
   "metadata": {
    "collapsed": false,
    "pycharm": {
     "name": "#%%\n"
    }
   }
  },
  {
   "cell_type": "code",
   "execution_count": 67,
   "outputs": [],
   "source": [
    "# TEST_FILES_PATH = '/home/marrabld/data/test_emobs/RB95'\n",
    "# TEST_FILE = '20_ RB95.EMObs_AUTO'"
   ],
   "metadata": {
    "collapsed": false,
    "pycharm": {
     "name": "#%%\n"
    }
   }
  },
  {
   "cell_type": "markdown",
   "source": [
    "### Sanity check that we can read the library"
   ],
   "metadata": {
    "collapsed": false,
    "pycharm": {
     "name": "#%% md\n"
    }
   }
  },
  {
   "cell_type": "code",
   "execution_count": 68,
   "outputs": [
    {
     "name": "stdout",
     "output_type": "stream",
     "text": [
      "(2, 0)\n"
     ]
    }
   ],
   "source": [
    "print(emtm.emtm_version())"
   ],
   "metadata": {
    "collapsed": false,
    "pycharm": {
     "name": "#%%\n"
    }
   }
  },
  {
   "cell_type": "markdown",
   "source": [
    "### Load the .EMObs files"
   ],
   "metadata": {
    "collapsed": false,
    "pycharm": {
     "name": "#%% md\n"
    }
   }
  },
  {
   "cell_type": "code",
   "execution_count": 69,
   "outputs": [],
   "source": [
    "r = emtm.em_load_data(os.path.join(TEST_FILES_PATH, TEST_FILE))\n",
    "assert EMTMResult(r) == EMTMResult(0)"
   ],
   "metadata": {
    "collapsed": false,
    "pycharm": {
     "name": "#%%\n"
    }
   }
  },
  {
   "cell_type": "markdown",
   "source": [
    "Load the data in Test.EMObs into a dataframe"
   ],
   "metadata": {
    "collapsed": false,
    "pycharm": {
     "name": "#%% md\n"
    }
   }
  },
  {
   "cell_type": "code",
   "execution_count": 70,
   "outputs": [
    {
     "name": "stdout",
     "output_type": "stream",
     "text": [
      "[(b'', b'', b''), (b'lethrinidae', b'lethrinus', b'punctulatus'), (b'lutjanidae', b'lutjanus', b'sebae')]\n"
     ]
    }
   ],
   "source": [
    "# this needs to be called first to generate the list\n",
    "n_fgs = emtm.em_unique_fgs()\n",
    "fgs = []\n",
    "\n",
    "for ii in range(n_fgs):\n",
    "    fgs.append(emtm.em_get_unique_fgs(ii))\n",
    "\n",
    "print(fgs)"
   ],
   "metadata": {
    "collapsed": false,
    "pycharm": {
     "name": "#%%\n"
    }
   }
  },
  {
   "cell_type": "markdown",
   "source": [
    "### Write the classes out to file"
   ],
   "metadata": {
    "collapsed": false,
    "pycharm": {
     "name": "#%% md\n"
    }
   }
  },
  {
   "cell_type": "code",
   "execution_count": 71,
   "outputs": [],
   "source": [
    "with open('./train/classes.txt', 'w') as f:\n",
    "    for _class in fgs:\n",
    "        f.write(f\"{_class[0].decode('utf-8')}_{_class[1].decode('utf-8')}_{_class[2].decode('utf-8')}\\n\")"
   ],
   "metadata": {
    "collapsed": false,
    "pycharm": {
     "name": "#%%\n"
    }
   }
  },
  {
   "cell_type": "code",
   "execution_count": 72,
   "outputs": [],
   "source": [
    "def point_to_df():\n",
    "    \"\"\"\n",
    "    Convert EvemtMeasure points to a dataframe\n",
    "    :return: Pandas dataframe\n",
    "    \"\"\"\n",
    "    dtype_template = 'object'\n",
    "    point_count, box_count = emtm.em_point_count()\n",
    "    print(f'number of points :: {point_count}')\n",
    "    print(f'number of boxes :: {box_count}')\n",
    "\n",
    "    p = emtm.em_get_point(0)\n",
    "    index = [attr for attr in dir(p) if (not attr.startswith('__') and not attr.startswith('_'))]\n",
    "    data = np.empty(shape=[point_count, len(index)], dtype=dtype_template)  # change these\n",
    "\n",
    "    for jj in range(point_count):\n",
    "        p = emtm.em_get_point(jj)\n",
    "        for ii, ind in enumerate(index):\n",
    "            tmp = p.__getattribute__(ind)\n",
    "            data[jj][ii] = tmp\n",
    "\n",
    "    xpdf = pd.DataFrame(data=data, columns=index)\n",
    "    xpdf = xpdf.convert_dtypes().infer_objects()\n",
    "    return xpdf"
   ],
   "metadata": {
    "collapsed": false,
    "pycharm": {
     "name": "#%%\n"
    }
   }
  },
  {
   "cell_type": "code",
   "execution_count": 73,
   "outputs": [
    {
     "name": "stdout",
     "output_type": "stream",
     "text": [
      "number of points :: 237\n",
      "number of boxes :: 237\n"
     ]
    },
    {
     "data": {
      "text/plain": "   d_imx  d_imy  d_period_time_mins  d_rectx  d_recty  d_time_mins  n_frame  \\\n0    767    420                  -1      108       77     3.868865     6957   \n1    374    579                  -1      290      137     3.868865     6957   \n2    191    407                  -1       65       27     3.868865     6957   \n3    659    388                  -1       27       21     3.868865     6957   \n4    648    533                  -1      360      145     3.868865     6957   \n\n  str_activity str_att_10 str_att_9 str_code str_comment str_family  \\\n0   b'Passing'        b''       b''      b''         b''        b''   \n1   b'Passing'        b''       b''      b''         b''        b''   \n2   b'Passing'        b''       b''      b''         b''        b''   \n3   b'Passing'        b''       b''      b''         b''        b''   \n4   b'Passing'        b''       b''      b''         b''        b''   \n\n             str_filename str_genus str_number str_op_code str_period  \\\n0  b'G000048 L_small.m4v'       b''       b'1'     b'AFID'        b''   \n1  b'G000048 L_small.m4v'       b''       b'1'     b'AFID'        b''   \n2  b'G000048 L_small.m4v'       b''       b'1'     b'AFID'        b''   \n3  b'G000048 L_small.m4v'       b''       b'1'     b'AFID'        b''   \n4  b'G000048 L_small.m4v'       b''       b'1'     b'AFID'        b''   \n\n  str_species str_stage  \n0         b''     b'AD'  \n1         b''     b'AD'  \n2         b''     b'AD'  \n3         b''     b'AD'  \n4         b''     b'AD'  ",
      "text/html": "<div>\n<style scoped>\n    .dataframe tbody tr th:only-of-type {\n        vertical-align: middle;\n    }\n\n    .dataframe tbody tr th {\n        vertical-align: top;\n    }\n\n    .dataframe thead th {\n        text-align: right;\n    }\n</style>\n<table border=\"1\" class=\"dataframe\">\n  <thead>\n    <tr style=\"text-align: right;\">\n      <th></th>\n      <th>d_imx</th>\n      <th>d_imy</th>\n      <th>d_period_time_mins</th>\n      <th>d_rectx</th>\n      <th>d_recty</th>\n      <th>d_time_mins</th>\n      <th>n_frame</th>\n      <th>str_activity</th>\n      <th>str_att_10</th>\n      <th>str_att_9</th>\n      <th>str_code</th>\n      <th>str_comment</th>\n      <th>str_family</th>\n      <th>str_filename</th>\n      <th>str_genus</th>\n      <th>str_number</th>\n      <th>str_op_code</th>\n      <th>str_period</th>\n      <th>str_species</th>\n      <th>str_stage</th>\n    </tr>\n  </thead>\n  <tbody>\n    <tr>\n      <th>0</th>\n      <td>767</td>\n      <td>420</td>\n      <td>-1</td>\n      <td>108</td>\n      <td>77</td>\n      <td>3.868865</td>\n      <td>6957</td>\n      <td>b'Passing'</td>\n      <td>b''</td>\n      <td>b''</td>\n      <td>b''</td>\n      <td>b''</td>\n      <td>b''</td>\n      <td>b'G000048 L_small.m4v'</td>\n      <td>b''</td>\n      <td>b'1'</td>\n      <td>b'AFID'</td>\n      <td>b''</td>\n      <td>b''</td>\n      <td>b'AD'</td>\n    </tr>\n    <tr>\n      <th>1</th>\n      <td>374</td>\n      <td>579</td>\n      <td>-1</td>\n      <td>290</td>\n      <td>137</td>\n      <td>3.868865</td>\n      <td>6957</td>\n      <td>b'Passing'</td>\n      <td>b''</td>\n      <td>b''</td>\n      <td>b''</td>\n      <td>b''</td>\n      <td>b''</td>\n      <td>b'G000048 L_small.m4v'</td>\n      <td>b''</td>\n      <td>b'1'</td>\n      <td>b'AFID'</td>\n      <td>b''</td>\n      <td>b''</td>\n      <td>b'AD'</td>\n    </tr>\n    <tr>\n      <th>2</th>\n      <td>191</td>\n      <td>407</td>\n      <td>-1</td>\n      <td>65</td>\n      <td>27</td>\n      <td>3.868865</td>\n      <td>6957</td>\n      <td>b'Passing'</td>\n      <td>b''</td>\n      <td>b''</td>\n      <td>b''</td>\n      <td>b''</td>\n      <td>b''</td>\n      <td>b'G000048 L_small.m4v'</td>\n      <td>b''</td>\n      <td>b'1'</td>\n      <td>b'AFID'</td>\n      <td>b''</td>\n      <td>b''</td>\n      <td>b'AD'</td>\n    </tr>\n    <tr>\n      <th>3</th>\n      <td>659</td>\n      <td>388</td>\n      <td>-1</td>\n      <td>27</td>\n      <td>21</td>\n      <td>3.868865</td>\n      <td>6957</td>\n      <td>b'Passing'</td>\n      <td>b''</td>\n      <td>b''</td>\n      <td>b''</td>\n      <td>b''</td>\n      <td>b''</td>\n      <td>b'G000048 L_small.m4v'</td>\n      <td>b''</td>\n      <td>b'1'</td>\n      <td>b'AFID'</td>\n      <td>b''</td>\n      <td>b''</td>\n      <td>b'AD'</td>\n    </tr>\n    <tr>\n      <th>4</th>\n      <td>648</td>\n      <td>533</td>\n      <td>-1</td>\n      <td>360</td>\n      <td>145</td>\n      <td>3.868865</td>\n      <td>6957</td>\n      <td>b'Passing'</td>\n      <td>b''</td>\n      <td>b''</td>\n      <td>b''</td>\n      <td>b''</td>\n      <td>b''</td>\n      <td>b'G000048 L_small.m4v'</td>\n      <td>b''</td>\n      <td>b'1'</td>\n      <td>b'AFID'</td>\n      <td>b''</td>\n      <td>b''</td>\n      <td>b'AD'</td>\n    </tr>\n  </tbody>\n</table>\n</div>"
     },
     "execution_count": 73,
     "metadata": {},
     "output_type": "execute_result"
    }
   ],
   "source": [
    "pdf = point_to_df()\n",
    "pdf.head()"
   ],
   "metadata": {
    "collapsed": false,
    "pycharm": {
     "name": "#%%\n"
    }
   }
  },
  {
   "cell_type": "code",
   "execution_count": 74,
   "outputs": [
    {
     "name": "stdout",
     "output_type": "stream",
     "text": [
      "<class 'pandas.core.frame.DataFrame'>\n",
      "RangeIndex: 237 entries, 0 to 236\n",
      "Data columns (total 20 columns):\n",
      " #   Column              Non-Null Count  Dtype  \n",
      "---  ------              --------------  -----  \n",
      " 0   d_imx               237 non-null    Int64  \n",
      " 1   d_imy               237 non-null    Int64  \n",
      " 2   d_period_time_mins  237 non-null    Int64  \n",
      " 3   d_rectx             237 non-null    Int64  \n",
      " 4   d_recty             237 non-null    Int64  \n",
      " 5   d_time_mins         237 non-null    Float64\n",
      " 6   n_frame             237 non-null    Int64  \n",
      " 7   str_activity        237 non-null    object \n",
      " 8   str_att_10          237 non-null    object \n",
      " 9   str_att_9           237 non-null    object \n",
      " 10  str_code            237 non-null    object \n",
      " 11  str_comment         237 non-null    object \n",
      " 12  str_family          237 non-null    object \n",
      " 13  str_filename        237 non-null    object \n",
      " 14  str_genus           237 non-null    object \n",
      " 15  str_number          237 non-null    object \n",
      " 16  str_op_code         237 non-null    object \n",
      " 17  str_period          237 non-null    object \n",
      " 18  str_species         237 non-null    object \n",
      " 19  str_stage           237 non-null    object \n",
      "dtypes: Float64(1), Int64(6), object(13)\n",
      "memory usage: 38.8+ KB\n"
     ]
    }
   ],
   "source": [
    "pdf.info()"
   ],
   "metadata": {
    "collapsed": false,
    "pycharm": {
     "name": "#%%\n"
    }
   }
  },
  {
   "cell_type": "markdown",
   "source": [
    "### We're only interested in boxes at this stage so subset the data frame to include only boxes"
   ],
   "metadata": {
    "collapsed": false,
    "pycharm": {
     "name": "#%% md\n"
    }
   }
  },
  {
   "cell_type": "code",
   "execution_count": 75,
   "outputs": [
    {
     "data": {
      "text/plain": "   d_imx  d_imy  d_period_time_mins  d_rectx  d_recty  d_time_mins  n_frame  \\\n0    767    420                  -1      108       77     3.868865     6957   \n1    374    579                  -1      290      137     3.868865     6957   \n2    191    407                  -1       65       27     3.868865     6957   \n3    659    388                  -1       27       21     3.868865     6957   \n4    648    533                  -1      360      145     3.868865     6957   \n\n  str_activity str_att_10 str_att_9 str_code str_comment str_family  \\\n0   b'Passing'        b''       b''      b''         b''        b''   \n1   b'Passing'        b''       b''      b''         b''        b''   \n2   b'Passing'        b''       b''      b''         b''        b''   \n3   b'Passing'        b''       b''      b''         b''        b''   \n4   b'Passing'        b''       b''      b''         b''        b''   \n\n             str_filename str_genus str_number str_op_code str_period  \\\n0  b'G000048 L_small.m4v'       b''       b'1'     b'AFID'        b''   \n1  b'G000048 L_small.m4v'       b''       b'1'     b'AFID'        b''   \n2  b'G000048 L_small.m4v'       b''       b'1'     b'AFID'        b''   \n3  b'G000048 L_small.m4v'       b''       b'1'     b'AFID'        b''   \n4  b'G000048 L_small.m4v'       b''       b'1'     b'AFID'        b''   \n\n  str_species str_stage  \n0         b''     b'AD'  \n1         b''     b'AD'  \n2         b''     b'AD'  \n3         b''     b'AD'  \n4         b''     b'AD'  ",
      "text/html": "<div>\n<style scoped>\n    .dataframe tbody tr th:only-of-type {\n        vertical-align: middle;\n    }\n\n    .dataframe tbody tr th {\n        vertical-align: top;\n    }\n\n    .dataframe thead th {\n        text-align: right;\n    }\n</style>\n<table border=\"1\" class=\"dataframe\">\n  <thead>\n    <tr style=\"text-align: right;\">\n      <th></th>\n      <th>d_imx</th>\n      <th>d_imy</th>\n      <th>d_period_time_mins</th>\n      <th>d_rectx</th>\n      <th>d_recty</th>\n      <th>d_time_mins</th>\n      <th>n_frame</th>\n      <th>str_activity</th>\n      <th>str_att_10</th>\n      <th>str_att_9</th>\n      <th>str_code</th>\n      <th>str_comment</th>\n      <th>str_family</th>\n      <th>str_filename</th>\n      <th>str_genus</th>\n      <th>str_number</th>\n      <th>str_op_code</th>\n      <th>str_period</th>\n      <th>str_species</th>\n      <th>str_stage</th>\n    </tr>\n  </thead>\n  <tbody>\n    <tr>\n      <th>0</th>\n      <td>767</td>\n      <td>420</td>\n      <td>-1</td>\n      <td>108</td>\n      <td>77</td>\n      <td>3.868865</td>\n      <td>6957</td>\n      <td>b'Passing'</td>\n      <td>b''</td>\n      <td>b''</td>\n      <td>b''</td>\n      <td>b''</td>\n      <td>b''</td>\n      <td>b'G000048 L_small.m4v'</td>\n      <td>b''</td>\n      <td>b'1'</td>\n      <td>b'AFID'</td>\n      <td>b''</td>\n      <td>b''</td>\n      <td>b'AD'</td>\n    </tr>\n    <tr>\n      <th>1</th>\n      <td>374</td>\n      <td>579</td>\n      <td>-1</td>\n      <td>290</td>\n      <td>137</td>\n      <td>3.868865</td>\n      <td>6957</td>\n      <td>b'Passing'</td>\n      <td>b''</td>\n      <td>b''</td>\n      <td>b''</td>\n      <td>b''</td>\n      <td>b''</td>\n      <td>b'G000048 L_small.m4v'</td>\n      <td>b''</td>\n      <td>b'1'</td>\n      <td>b'AFID'</td>\n      <td>b''</td>\n      <td>b''</td>\n      <td>b'AD'</td>\n    </tr>\n    <tr>\n      <th>2</th>\n      <td>191</td>\n      <td>407</td>\n      <td>-1</td>\n      <td>65</td>\n      <td>27</td>\n      <td>3.868865</td>\n      <td>6957</td>\n      <td>b'Passing'</td>\n      <td>b''</td>\n      <td>b''</td>\n      <td>b''</td>\n      <td>b''</td>\n      <td>b''</td>\n      <td>b'G000048 L_small.m4v'</td>\n      <td>b''</td>\n      <td>b'1'</td>\n      <td>b'AFID'</td>\n      <td>b''</td>\n      <td>b''</td>\n      <td>b'AD'</td>\n    </tr>\n    <tr>\n      <th>3</th>\n      <td>659</td>\n      <td>388</td>\n      <td>-1</td>\n      <td>27</td>\n      <td>21</td>\n      <td>3.868865</td>\n      <td>6957</td>\n      <td>b'Passing'</td>\n      <td>b''</td>\n      <td>b''</td>\n      <td>b''</td>\n      <td>b''</td>\n      <td>b''</td>\n      <td>b'G000048 L_small.m4v'</td>\n      <td>b''</td>\n      <td>b'1'</td>\n      <td>b'AFID'</td>\n      <td>b''</td>\n      <td>b''</td>\n      <td>b'AD'</td>\n    </tr>\n    <tr>\n      <th>4</th>\n      <td>648</td>\n      <td>533</td>\n      <td>-1</td>\n      <td>360</td>\n      <td>145</td>\n      <td>3.868865</td>\n      <td>6957</td>\n      <td>b'Passing'</td>\n      <td>b''</td>\n      <td>b''</td>\n      <td>b''</td>\n      <td>b''</td>\n      <td>b''</td>\n      <td>b'G000048 L_small.m4v'</td>\n      <td>b''</td>\n      <td>b'1'</td>\n      <td>b'AFID'</td>\n      <td>b''</td>\n      <td>b''</td>\n      <td>b'AD'</td>\n    </tr>\n  </tbody>\n</table>\n</div>"
     },
     "execution_count": 75,
     "metadata": {},
     "output_type": "execute_result"
    }
   ],
   "source": [
    "boxdf = pdf[pdf['d_rectx'] >= 0]\n",
    "boxdf.head()"
   ],
   "metadata": {
    "collapsed": false,
    "pycharm": {
     "name": "#%%\n"
    }
   }
  },
  {
   "cell_type": "code",
   "execution_count": 76,
   "outputs": [],
   "source": [
    "def em_box_coords_to_yolo(x: float, y: float, box_width: float, box_height: float, image_width: float=1920, image_height: float=1080) -> namedtuple:\n",
    "    \"\"\"\n",
    "    Helper function to transform the EventMeasure coord to yolo coords.\n",
    "    YOLO coordinates are x, y, centre of the box and all coords normalised by image width and height\n",
    "    :param image_height:\n",
    "    :param image_width:\n",
    "    :param box_height:\n",
    "    :param box_width:\n",
    "    :param x: Pixel column\n",
    "    :param y: Pixel row\n",
    "    :return: namedtuple (x, y, width, height)\n",
    "    \"\"\"\n",
    "\n",
    "    XYWH = namedtuple('XYHW', 'x y width height')\n",
    "\n",
    "    yolo_x = (x + box_width / 2) / image_width\n",
    "    yolo_y = (y + box_height / 2) / image_height\n",
    "    yolo_box_width = box_width / image_width\n",
    "    yolo_box_height = box_height / image_height\n",
    "\n",
    "    return XYWH(yolo_x, yolo_y, yolo_box_width, yolo_box_height)"
   ],
   "metadata": {
    "collapsed": false,
    "pycharm": {
     "name": "#%%\n"
    }
   }
  },
  {
   "cell_type": "code",
   "execution_count": 76,
   "outputs": [],
   "source": [],
   "metadata": {
    "collapsed": false,
    "pycharm": {
     "name": "#%%\n"
    }
   }
  },
  {
   "cell_type": "code",
   "execution_count": 77,
   "outputs": [],
   "source": [
    "def df_to_yolo(df: pd.DataFrame, out_dir='train', image_width=1920, image_height=1080):\n",
    "    \"\"\"\n",
    "    Given a data frame write out a directory with training data in the YOLO format\n",
    "    <object-class> <x> <y> <width> <height>\n",
    "\n",
    "    integer number of object from 0 to (classes-1) - float values relative to width and height of image, it can be equal from (0.0 to 1.0] for example: <x> = <absolute_x> / <image_width> or <height> = <absolute_height> / <image_height> atention: <x> <y> - are center of rectangle (are not top-left corner)\n",
    "    :param df:\n",
    "    :return:\n",
    "    \"\"\"\n",
    "    os.makedirs(out_dir, exist_ok=True)\n",
    "\n",
    "\n",
    "    label = []\n",
    "    for index, row in df.iterrows():\n",
    "        #concatinate fgs for the label name\n",
    "        label.append(f\"{row['str_family'].decode('utf-8')}_{row['str_genus'].decode('utf-8')}_{row['str_species'].decode('utf-8')}\")\n",
    "    label = list(set(label))\n",
    "    print(f'Unique Labels :: {label}')\n",
    "\n",
    "    # Now we have the unique labels pull them out and create the string format.\n",
    "\n",
    "    for index, row in df.iterrows():\n",
    "        with open(os.path.join(out_dir, f\"{df['str_filename'].iloc[index].decode('utf-8')}_{df['n_frame'].iloc[index]}.txt\"), 'ab') as f:\n",
    "            row_label = []\n",
    "            row_string = []\n",
    "            r = em_box_coords_to_yolo(row['d_imx'], row['d_imy'], row['d_rectx'], row['d_recty'])\n",
    "            #concatinate fgs for the label name\n",
    "            row_label = f\"{row['str_family'].decode('utf-8')}_{row['str_genus'].decode('utf-8')}_{row['str_species'].decode('utf-8')}\"\n",
    "            label_num = label.index(row_label)\n",
    "            # Add the coordinates and boxes\n",
    "            row_string.append(f\"{label_num} {r.x} {r.y} {r.width} {r.height}\")\n",
    "\n",
    "            print(f'Writing :: {row_string}')\n",
    "            f.write(f'{row_string[0]}\\n'.encode())"
   ],
   "metadata": {
    "collapsed": false,
    "pycharm": {
     "name": "#%%\n"
    }
   }
  },
  {
   "cell_type": "code",
   "execution_count": 78,
   "outputs": [
    {
     "name": "stdout",
     "output_type": "stream",
     "text": [
      "Unique Labels :: ['Lutjanidae_Lutjanus_sebae', '__', 'Lethrinidae_Lethrinus_punctulatus']\n",
      "Writing :: ['1 0.4276041666666667 0.42453703703703705 0.05625 0.0712962962962963']\n",
      "Writing :: ['1 0.2703125 0.5995370370370371 0.15104166666666666 0.12685185185185185']\n",
      "Writing :: ['1 0.11640625 0.38935185185185184 0.033854166666666664 0.025']\n",
      "Writing :: ['1 0.3502604166666667 0.36898148148148147 0.0140625 0.019444444444444445']\n",
      "Writing :: ['1 0.43125 0.5606481481481481 0.1875 0.13425925925925927']\n",
      "Writing :: ['1 0.15260416666666668 0.4583333333333333 0.028125 0.040740740740740744']\n",
      "Writing :: ['1 0.7776041666666667 0.4708333333333333 0.027083333333333334 0.030555555555555555']\n",
      "Writing :: ['1 0.40859375 0.42268518518518516 0.06927083333333334 0.0712962962962963']\n",
      "Writing :: ['1 0.14583333333333334 0.38796296296296295 0.034375 0.024074074074074074']\n",
      "Writing :: ['1 0.453125 0.5569444444444445 0.16770833333333332 0.12129629629629629']\n",
      "Writing :: ['1 0.27838541666666666 0.6018518518518519 0.1484375 0.12777777777777777']\n",
      "Writing :: ['1 0.33567708333333335 0.41898148148148145 0.0578125 0.06018518518518518']\n",
      "Writing :: ['1 0.3151041666666667 0.6060185185185185 0.13229166666666667 0.1287037037037037']\n",
      "Writing :: ['1 0.23463541666666668 0.3787037037037037 0.018229166666666668 0.024074074074074074']\n",
      "Writing :: ['1 0.4765625 0.5569444444444445 0.11875 0.11018518518518519']\n",
      "Writing :: ['1 0.33229166666666665 0.37777777777777777 0.023958333333333335 0.02962962962962963']\n",
      "Writing :: ['1 0.3234375 0.34444444444444444 0.014583333333333334 0.025925925925925925']\n",
      "Writing :: ['1 0.6213541666666667 0.41759259259259257 0.020833333333333332 0.018518518518518517']\n",
      "Writing :: ['1 0.20338541666666668 0.5125 0.04010416666666667 0.026851851851851852']\n",
      "Writing :: ['1 0.3302083333333333 0.6194444444444445 0.146875 0.12962962962962962']\n",
      "Writing :: ['1 0.359375 0.3458333333333333 0.03229166666666667 0.030555555555555555']\n",
      "Writing :: ['1 0.29583333333333334 0.4203703703703704 0.05520833333333333 0.05555555555555555']\n",
      "Writing :: ['1 0.22916666666666666 0.3680555555555556 0.03229166666666667 0.026851851851851852']\n",
      "Writing :: ['1 0.27578125 0.34444444444444444 0.019270833333333334 0.025925925925925925']\n",
      "Writing :: ['1 0.6859375 0.47685185185185186 0.042708333333333334 0.025925925925925925']\n",
      "Writing :: ['1 0.28020833333333334 0.42592592592592593 0.05416666666666667 0.05555555555555555']\n",
      "Writing :: ['1 0.38203125 0.37037037037037035 0.0328125 0.03518518518518519']\n",
      "Writing :: ['1 0.2109375 0.37453703703703706 0.0375 0.030555555555555555']\n",
      "Writing :: ['1 0.27291666666666664 0.34814814814814815 0.01875 0.02962962962962963']\n",
      "Writing :: ['1 0.34140625 0.6263888888888889 0.11822916666666666 0.11018518518518519']\n",
      "Writing :: ['1 0.31875 0.38472222222222224 0.030208333333333334 0.028703703703703703']\n",
      "Writing :: ['1 0.42916666666666664 0.4013888888888889 0.026041666666666668 0.026851851851851852']\n",
      "Writing :: ['1 0.19791666666666666 0.38472222222222224 0.03125 0.026851851851851852']\n",
      "Writing :: ['1 0.38333333333333336 0.6171296296296296 0.075 0.10648148148148148']\n",
      "Writing :: ['1 0.27760416666666665 0.674537037037037 0.20104166666666667 0.15833333333333333']\n",
      "Writing :: ['1 0.190625 0.38425925925925924 0.020833333333333332 0.024074074074074074']\n",
      "Writing :: ['1 0.8395833333333333 0.4773148148148148 0.041666666666666664 0.026851851851851852']\n",
      "Writing :: ['1 0.3609375 0.4185185185185185 0.014583333333333334 0.03518518518518519']\n",
      "Writing :: ['1 0.5247395833333334 0.41759259259259257 0.034895833333333334 0.02962962962962963']\n",
      "Writing :: ['1 0.11458333333333333 0.3699074074074074 0.03958333333333333 0.03425925925925926']\n",
      "Writing :: ['1 0.365625 0.399537037037037 0.016666666666666666 0.03796296296296296']\n",
      "Writing :: ['1 0.34479166666666666 0.3439814814814815 0.020833333333333332 0.019444444444444445']\n",
      "Writing :: ['1 0.4354166666666667 0.4634259259259259 0.014583333333333334 0.017592592592592594']\n",
      "Writing :: ['1 0.2953125 0.663425925925926 0.19583333333333333 0.1675925925925926']\n",
      "Writing :: ['1 0.7104166666666667 0.4912037037037037 0.034375 0.023148148148148147']\n",
      "Writing :: ['1 0.4122395833333333 0.39537037037037037 0.013020833333333334 0.022222222222222223']\n",
      "Writing :: ['1 0.44427083333333334 0.600462962962963 0.109375 0.12685185185185185']\n",
      "Writing :: ['1 0.29296875 0.3912037037037037 0.0140625 0.017592592592592594']\n",
      "Writing :: ['1 0.496875 0.5212962962962963 0.04895833333333333 0.06481481481481481']\n",
      "Writing :: ['1 0.8015625 0.36342592592592593 0.025 0.025']\n",
      "Writing :: ['1 0.6036458333333333 0.4462962962962963 0.029166666666666667 0.06851851851851852']\n",
      "Writing :: ['1 0.7604166666666666 0.4462962962962963 0.04375 0.027777777777777776']\n",
      "Writing :: ['1 0.65546875 0.41759259259259257 0.0203125 0.046296296296296294']\n",
      "Writing :: ['1 0.7729166666666667 0.40694444444444444 0.015625 0.026851851851851852']\n",
      "Writing :: ['1 0.5239583333333333 0.5356481481481481 0.05520833333333333 0.11388888888888889']\n",
      "Writing :: ['1 0.56953125 0.4615740740740741 0.07447916666666667 0.1712962962962963']\n",
      "Writing :: ['1 0.4466145833333333 0.5907407407407408 0.0609375 0.09444444444444444']\n",
      "Writing :: ['1 0.7794270833333333 0.43657407407407406 0.0265625 0.03611111111111111']\n",
      "Writing :: ['1 0.80625 0.36203703703703705 0.019791666666666666 0.037037037037037035']\n",
      "Writing :: ['1 0.55234375 0.36527777777777776 0.021354166666666667 0.03981481481481482']\n",
      "Writing :: ['1 0.765625 0.39305555555555555 0.028125 0.03425925925925926']\n",
      "Writing :: ['1 0.46822916666666664 0.5694444444444444 0.03854166666666667 0.11481481481481481']\n",
      "Writing :: ['1 0.5255208333333333 0.5291666666666667 0.042708333333333334 0.09351851851851851']\n",
      "Writing :: ['1 0.6419270833333334 0.3875 0.021354166666666667 0.030555555555555555']\n",
      "Writing :: ['1 0.6109375 0.4564814814814815 0.028125 0.05185185185185185']\n",
      "Writing :: ['1 0.48333333333333334 0.41898148148148145 0.01875 0.017592592592592594']\n",
      "Writing :: ['1 0.48072916666666665 0.4388888888888889 0.021875 0.020370370370370372']\n",
      "Writing :: ['1 0.5098958333333333 0.40185185185185185 0.016666666666666666 0.020370370370370372']\n",
      "Writing :: ['1 0.5466145833333333 0.45231481481481484 0.0203125 0.028703703703703703']\n",
      "Writing :: ['1 0.43203125 0.40370370370370373 0.0109375 0.012962962962962963']\n",
      "Writing :: ['1 0.0578125 0.32731481481481484 0.01875 0.021296296296296296']\n",
      "Writing :: ['1 0.40703125 0.3939814814814815 0.008854166666666666 0.017592592592592594']\n",
      "Writing :: ['1 0.5419270833333333 0.3990740740740741 0.028645833333333332 0.027777777777777776']\n",
      "Writing :: ['1 0.72421875 0.35 0.0515625 0.04259259259259259']\n",
      "Writing :: ['1 0.6536458333333334 0.3365740740740741 0.03958333333333333 0.04351851851851852']\n",
      "Writing :: ['1 0.38619791666666664 0.41759259259259257 0.04739583333333333 0.02962962962962963']\n",
      "Writing :: ['1 0.809375 0.4101851851851852 0.041666666666666664 0.03148148148148148']\n",
      "Writing :: ['1 0.6453125 0.46064814814814814 0.15104166666666666 0.13796296296296295']\n",
      "Writing :: ['1 0.5546875 0.3425925925925926 0.03854166666666667 0.02962962962962963']\n",
      "Writing :: ['1 0.4973958333333333 0.36018518518518516 0.027083333333333334 0.024074074074074074']\n",
      "Writing :: ['1 0.4546875 0.375 0.04583333333333333 0.027777777777777776']\n",
      "Writing :: ['1 0.4192708333333333 0.4601851851851852 0.034375 0.02962962962962963']\n",
      "Writing :: ['1 0.5088541666666667 0.5356481481481481 0.11145833333333334 0.19907407407407407']\n",
      "Writing :: ['1 0.5606770833333333 0.2953703703703704 0.0109375 0.03518518518518519']\n",
      "Writing :: ['1 0.659375 0.3189814814814815 0.03229166666666667 0.025']\n",
      "Writing :: ['1 0.6174479166666667 0.34444444444444444 0.0234375 0.024074074074074074']\n",
      "Writing :: ['1 0.63046875 0.3402777777777778 0.03697916666666667 0.049074074074074076']\n",
      "Writing :: ['1 0.3028645833333333 0.34814814814814815 0.0265625 0.024074074074074074']\n",
      "Writing :: ['1 0.11015625 0.38055555555555554 0.1328125 0.10555555555555556']\n",
      "Writing :: ['1 0.6984375 0.3902777777777778 0.053125 0.049074074074074076']\n",
      "Writing :: ['1 0.4505208333333333 0.2388888888888889 0.03333333333333333 0.03333333333333333']\n",
      "Writing :: ['1 0.4234375 0.30462962962962964 0.051041666666666666 0.053703703703703705']\n",
      "Writing :: ['1 0.4002604166666667 0.37222222222222223 0.0328125 0.03518518518518519']\n",
      "Writing :: ['1 0.33567708333333335 0.37222222222222223 0.024479166666666666 0.018518518518518517']\n",
      "Writing :: ['1 0.40729166666666666 0.41944444444444445 0.04583333333333333 0.046296296296296294']\n",
      "Writing :: ['1 0.5372395833333333 0.44907407407407407 0.03177083333333333 0.03333333333333333']\n",
      "Writing :: ['1 0.378125 0.3199074074074074 0.041666666666666664 0.04351851851851852']\n",
      "Writing :: ['1 0.6028645833333334 0.4537037037037037 0.021354166666666667 0.020370370370370372']\n",
      "Writing :: ['1 0.7533854166666667 0.49074074074074076 0.0359375 0.025925925925925925']\n",
      "Writing :: ['1 0.3848958333333333 0.43333333333333335 0.0125 0.04814814814814815']\n",
      "Writing :: ['1 0.43411458333333336 0.3425925925925926 0.028645833333333332 0.025925925925925925']\n",
      "Writing :: ['1 0.6341145833333334 0.4217592592592593 0.04010416666666667 0.03981481481481482']\n",
      "Writing :: ['1 0.34348958333333335 0.6337962962962963 0.16302083333333334 0.16944444444444445']\n",
      "Writing :: ['1 0.7018229166666666 0.5060185185185185 0.027604166666666666 0.025']\n",
      "Writing :: ['1 0.7106770833333333 0.4527777777777778 0.013020833333333334 0.03333333333333333']\n",
      "Writing :: ['1 0.3419270833333333 0.46620370370370373 0.027604166666666666 0.05277777777777778']\n",
      "Writing :: ['1 0.35885416666666664 0.4356481481481482 0.022916666666666665 0.021296296296296296']\n",
      "Writing :: ['1 0.24661458333333333 0.425 0.0234375 0.020370370370370372']\n",
      "Writing :: ['1 0.4265625 0.4583333333333333 0.014583333333333334 0.027777777777777776']\n",
      "Writing :: ['1 0.42942708333333335 0.36712962962962964 0.033854166666666664 0.026851851851851852']\n",
      "Writing :: ['1 0.19947916666666668 0.34675925925925927 0.041666666666666664 0.03425925925925926']\n",
      "Writing :: ['1 0.7953125 0.46064814814814814 0.030208333333333334 0.025']\n",
      "Writing :: ['1 0.49635416666666665 0.3574074074074074 0.013541666666666667 0.024074074074074074']\n",
      "Writing :: ['1 0.20703125 0.36666666666666664 0.028645833333333332 0.027777777777777776']\n",
      "Writing :: ['1 0.5963541666666666 0.39861111111111114 0.0125 0.017592592592592594']\n",
      "Writing :: ['1 0.36484375 0.3824074074074074 0.013020833333333334 0.016666666666666666']\n",
      "Writing :: ['1 0.7453125 0.4546296296296296 0.029166666666666667 0.022222222222222223']\n",
      "Writing :: ['1 0.9872395833333333 0.40925925925925927 0.024479166666666666 0.03333333333333333']\n",
      "Writing :: ['1 0.44192708333333336 0.4527777777777778 0.018229166666666668 0.044444444444444446']\n",
      "Writing :: ['1 0.3640625 0.29583333333333334 0.016666666666666666 0.026851851851851852']\n",
      "Writing :: ['1 0.8966145833333333 0.5120370370370371 0.013020833333333334 0.03148148148148148']\n",
      "Writing :: ['1 0.5328125 0.38425925925925924 0.013541666666666667 0.024074074074074074']\n",
      "Writing :: ['1 0.6466145833333333 0.4486111111111111 0.03697916666666667 0.049074074074074076']\n",
      "Writing :: ['1 0.2635416666666667 0.35462962962962963 0.04479166666666667 0.046296296296296294']\n",
      "Writing :: ['1 0.77578125 0.46064814814814814 0.09114583333333333 0.07685185185185185']\n",
      "Writing :: ['1 0.215625 0.4791666666666667 0.04791666666666667 0.0712962962962963']\n",
      "Writing :: ['1 0.49296875 0.49675925925925923 0.15260416666666668 0.13425925925925927']\n",
      "Writing :: ['1 0.26536458333333335 0.49398148148148147 0.04635416666666667 0.05462962962962963']\n",
      "Writing :: ['1 0.6403645833333333 0.274537037037037 0.027604166666666666 0.025']\n",
      "Writing :: ['1 0.5497395833333333 0.2912037037037037 0.0328125 0.023148148148148147']\n",
      "Writing :: ['1 0.8526041666666667 0.4203703703703704 0.028125 0.05185185185185185']\n",
      "Writing :: ['1 0.3377604166666667 0.34814814814814815 0.030729166666666665 0.024074074074074074']\n",
      "Writing :: ['1 0.8416666666666667 0.5055555555555555 0.046875 0.027777777777777776']\n",
      "Writing :: ['1 0.20989583333333334 0.6162037037037037 0.06770833333333333 0.03796296296296296']\n",
      "Writing :: ['1 0.6869791666666667 0.38796296296296295 0.059375 0.05925925925925926']\n",
      "Writing :: ['1 0.41432291666666665 0.38472222222222224 0.0390625 0.032407407407407406']\n",
      "Writing :: ['1 0.4856770833333333 0.3199074074074074 0.018229166666666668 0.028703703703703703']\n",
      "Writing :: ['1 0.3302083333333333 0.4148148148148148 0.023958333333333335 0.022222222222222223']\n",
      "Writing :: ['1 0.06848958333333334 0.43703703703703706 0.05364583333333333 0.044444444444444446']\n",
      "Writing :: ['1 0.8690104166666667 0.3768518518518518 0.05260416666666667 0.02962962962962963']\n",
      "Writing :: ['1 0.765625 0.3365740740740741 0.017708333333333333 0.023148148148148147']\n",
      "Writing :: ['1 0.4010416666666667 0.6449074074074074 0.17395833333333333 0.1527777777777778']\n",
      "Writing :: ['1 0.61484375 0.37407407407407406 0.0234375 0.037037037037037035']\n",
      "Writing :: ['1 0.13333333333333333 0.362962962962963 0.04479166666666667 0.05']\n",
      "Writing :: ['1 0.36041666666666666 0.3106481481481482 0.011458333333333333 0.021296296296296296']\n",
      "Writing :: ['1 0.4869791666666667 0.38055555555555554 0.0125 0.014814814814814815']\n",
      "Writing :: ['1 0.3768229166666667 0.3990740740740741 0.0171875 0.027777777777777776']\n",
      "Writing :: ['1 0.37005208333333334 0.3527777777777778 0.011979166666666667 0.014814814814814815']\n",
      "Writing :: ['1 0.5408854166666667 0.4449074074074074 0.03802083333333333 0.030555555555555555']\n",
      "Writing :: ['1 0.9466145833333334 0.4587962962962963 0.018229166666666668 0.017592592592592594']\n",
      "Writing :: ['1 0.3645833333333333 0.4351851851851852 0.03125 0.024074074074074074']\n",
      "Writing :: ['1 0.3307291666666667 0.31666666666666665 0.015625 0.020370370370370372']\n",
      "Writing :: ['1 0.39427083333333335 0.4212962962962963 0.014583333333333334 0.024074074074074074']\n",
      "Writing :: ['1 0.5984375 0.27037037037037037 0.011458333333333333 0.027777777777777776']\n",
      "Writing :: ['1 0.6861979166666666 0.3476851851851852 0.0109375 0.013888888888888888']\n",
      "Writing :: ['1 0.8703125 0.30972222222222223 0.01875 0.026851851851851852']\n",
      "Writing :: ['1 0.4739583333333333 0.37546296296296294 0.013541666666666667 0.01574074074074074']\n",
      "Writing :: ['1 0.39869791666666665 0.4398148148148148 0.0234375 0.020370370370370372']\n",
      "Writing :: ['1 0.30442708333333335 0.38055555555555554 0.018229166666666668 0.022222222222222223']\n",
      "Writing :: ['1 0.28203125 0.3347222222222222 0.013020833333333334 0.013888888888888888']\n",
      "Writing :: ['1 0.8104166666666667 0.4787037037037037 0.03958333333333333 0.03888888888888889']\n",
      "Writing :: ['1 0.41432291666666665 0.31712962962962965 0.009895833333333333 0.021296296296296296']\n",
      "Writing :: ['1 0.4901041666666667 0.3486111111111111 0.011458333333333333 0.01574074074074074']\n",
      "Writing :: ['1 0.47161458333333334 0.41388888888888886 0.050520833333333334 0.05']\n",
      "Writing :: ['1 0.6643229166666667 0.4625 0.0328125 0.049074074074074076']\n",
      "Writing :: ['1 0.7950520833333333 0.45925925925925926 0.08802083333333334 0.06851851851851852']\n",
      "Writing :: ['0 0.23619791666666667 0.337037037037037 0.06197916666666667 0.044444444444444446']\n",
      "Writing :: ['1 0.12760416666666666 0.3851851851851852 0.058333333333333334 0.046296296296296294']\n",
      "Writing :: ['0 0.5434895833333333 0.2935185185185185 0.030729166666666665 0.024074074074074074']\n",
      "Writing :: ['0 0.22526041666666666 0.45092592592592595 0.034895833333333334 0.05555555555555555']\n",
      "Writing :: ['1 0.33984375 0.4148148148148148 0.024479166666666666 0.022222222222222223']\n",
      "Writing :: ['2 0.49635416666666665 0.4930555555555556 0.15416666666666667 0.14537037037037037']\n",
      "Writing :: ['1 0.48463541666666665 0.3175925925925926 0.022395833333333334 0.027777777777777776']\n",
      "Writing :: ['0 0.8859375 0.38101851851851853 0.05520833333333333 0.030555555555555555']\n",
      "Writing :: ['1 0.8640625 0.5078703703703704 0.052083333333333336 0.030555555555555555']\n",
      "Writing :: ['1 0.6921875 0.387037037037037 0.052083333333333336 0.05740740740740741']\n",
      "Writing :: ['1 0.35572916666666665 0.43796296296296294 0.029166666666666667 0.025925925925925925']\n",
      "Writing :: ['1 0.6354166666666666 0.27361111111111114 0.03125 0.023148148148148147']\n",
      "Writing :: ['1 0.40130208333333334 0.42314814814814816 0.0171875 0.020370370370370372']\n",
      "Writing :: ['1 0.1109375 0.5856481481481481 0.06458333333333334 0.06018518518518518']\n",
      "Writing :: ['1 0.3484375 0.3490740740740741 0.030208333333333334 0.024074074074074074']\n",
      "Writing :: ['1 0.4393229166666667 0.3912037037037037 0.0265625 0.030555555555555555']\n",
      "Writing :: ['1 0.2981770833333333 0.3851851851851852 0.022395833333333334 0.020370370370370372']\n",
      "Writing :: ['2 0.39947916666666666 0.6453703703703704 0.16875 0.1537037037037037']\n",
      "Writing :: ['1 0.55 0.44027777777777777 0.03958333333333333 0.026851851851851852']\n",
      "Writing :: ['1 0.07083333333333333 0.45601851851851855 0.040625 0.05648148148148148']\n",
      "Writing :: ['1 0.41458333333333336 0.3125 0.014583333333333334 0.025']\n",
      "Writing :: ['1 0.32890625 0.32175925925925924 0.0109375 0.026851851851851852']\n",
      "Writing :: ['1 0.6817708333333333 0.35185185185185186 0.011458333333333333 0.016666666666666666']\n",
      "Writing :: ['1 0.6078125 0.38101851851851853 0.017708333333333333 0.028703703703703703']\n",
      "Writing :: ['1 0.375 0.40185185185185185 0.0125 0.024074074074074074']\n",
      "Writing :: ['1 0.36171875 0.30925925925925923 0.013020833333333334 0.022222222222222223']\n",
      "Writing :: ['1 0.6786458333333333 0.4236111111111111 0.0125 0.019444444444444445']\n",
      "Writing :: ['1 0.86015625 0.43657407407407406 0.0296875 0.05277777777777778']\n",
      "Writing :: ['1 0.4236979166666667 0.4046296296296296 0.0171875 0.020370370370370372']\n",
      "Writing :: ['1 0.8705729166666667 0.30416666666666664 0.018229166666666668 0.03425925925925926']\n",
      "Writing :: ['1 0.81640625 0.48703703703703705 0.0328125 0.03888888888888889']\n",
      "Writing :: ['1 0.47994791666666664 0.4111111111111111 0.04635416666666667 0.046296296296296294']\n",
      "Writing :: ['1 0.045572916666666664 0.44814814814814813 0.030729166666666665 0.027777777777777776']\n",
      "Writing :: ['1 0.5994791666666667 0.27824074074074073 0.009375 0.028703703703703703']\n",
      "Writing :: ['1 0.42291666666666666 0.36944444444444446 0.014583333333333334 0.014814814814814815']\n",
      "Writing :: ['1 0.9518229166666666 0.46574074074074073 0.016145833333333335 0.020370370370370372']\n",
      "Writing :: ['1 0.33645833333333336 0.43472222222222223 0.0125 0.013888888888888888']\n",
      "Writing :: ['1 0.9604166666666667 0.4837962962962963 0.03333333333333333 0.023148148148148147']\n",
      "Writing :: ['1 0.1421875 0.500462962962963 0.0875 0.04537037037037037']\n",
      "Writing :: ['1 0.41848958333333336 0.42962962962962964 0.0203125 0.022222222222222223']\n",
      "Writing :: ['1 0.28072916666666664 0.33240740740740743 0.0125 0.014814814814814815']\n",
      "Writing :: ['1 0.12083333333333333 0.35185185185185186 0.04583333333333333 0.03888888888888889']\n",
      "Writing :: ['1 0.18697916666666667 0.387037037037037 0.022916666666666665 0.020370370370370372']\n",
      "Writing :: ['1 0.3380208333333333 0.2912037037037037 0.04583333333333333 0.1361111111111111']\n",
      "Writing :: ['1 0.5815104166666667 0.5148148148148148 0.09322916666666667 0.1037037037037037']\n",
      "Writing :: ['1 0.51796875 0.5 0.07447916666666667 0.07962962962962963']\n",
      "Writing :: ['1 0.42942708333333335 0.40925925925925927 0.03177083333333333 0.06111111111111111']\n",
      "Writing :: ['1 0.39010416666666664 0.6564814814814814 0.16979166666666667 0.15925925925925927']\n",
      "Writing :: ['1 0.5309895833333333 0.40879629629629627 0.0328125 0.04351851851851852']\n",
      "Writing :: ['1 0.34765625 0.3300925925925926 0.05572916666666667 0.1287037037037037']\n",
      "Writing :: ['1 0.36380208333333336 0.6810185185185185 0.2078125 0.16944444444444445']\n",
      "Writing :: ['1 0.43385416666666665 0.2935185185185185 0.17395833333333333 0.17777777777777778']\n",
      "Writing :: ['1 0.2981770833333333 0.3662037037037037 0.1328125 0.09722222222222222']\n",
      "Writing :: ['1 0.39296875 0.4287037037037037 0.03802083333333333 0.037037037037037035']\n",
      "Writing :: ['1 0.6140625 0.836574074074074 0.19583333333333333 0.19537037037037036']\n",
      "Writing :: ['1 0.65625 0.36064814814814816 0.052083333333333336 0.058333333333333334']\n",
      "Writing :: ['1 0.60078125 0.47453703703703703 0.0671875 0.08425925925925926']\n",
      "Writing :: ['1 0.45234375 0.28888888888888886 0.17864583333333334 0.18703703703703703']\n",
      "Writing :: ['1 0.33125 0.36157407407407405 0.13229166666666667 0.09351851851851851']\n",
      "Writing :: ['1 0.6171875 0.46574074074074073 0.06145833333333333 0.08148148148148149']\n",
      "Writing :: ['1 0.60859375 0.8314814814814815 0.2046875 0.19814814814814816']\n",
      "Writing :: ['1 0.6486979166666667 0.3578703703703704 0.0484375 0.05462962962962963']\n",
      "Writing :: ['1 0.38776041666666666 0.42916666666666664 0.03802083333333333 0.03981481481481482']\n",
      "Writing :: ['1 0.45026041666666666 0.3476851851851852 0.12135416666666667 0.10092592592592593']\n",
      "Writing :: ['1 0.5736979166666667 0.24722222222222223 0.2598958333333333 0.2222222222222222']\n",
      "Writing :: ['1 0.6473958333333333 0.45555555555555555 0.05625 0.07222222222222222']\n",
      "Writing :: ['1 0.60859375 0.8282407407407407 0.2078125 0.19907407407407407']\n",
      "Writing :: ['1 0.36796875 0.43472222222222223 0.0296875 0.03796296296296296']\n",
      "Writing :: ['1 0.5546875 0.32175925925925924 0.159375 0.14166666666666666']\n",
      "Writing :: ['1 0.5203125 0.4217592592592593 0.06354166666666666 0.0824074074074074']\n",
      "Writing :: ['1 0.56796875 0.8319444444444445 0.1453125 0.2490740740740741']\n"
     ]
    }
   ],
   "source": [
    "df_to_yolo(boxdf)"
   ],
   "metadata": {
    "collapsed": false,
    "pycharm": {
     "name": "#%%\n"
    }
   }
  },
  {
   "cell_type": "code",
   "execution_count": 78,
   "outputs": [],
   "source": [],
   "metadata": {
    "collapsed": false,
    "pycharm": {
     "name": "#%%\n"
    }
   }
  },
  {
   "cell_type": "code",
   "execution_count": 85,
   "outputs": [],
   "source": [
    "def extract_frames_from_video(video, frame_number):\n",
    "    \"\"\"\n",
    "    Given a BRUVS video, extract the frame as a jpg.\n",
    "    :param video:\n",
    "    :param frame_number:\n",
    "    :return:\n",
    "    \"\"\"\n",
    "    vid = cv2.VideoCapture(video)\n",
    "    vid.set(1, frame_number)\n",
    "\n",
    "    ret, image = vid.read()\n",
    "    return image"
   ],
   "metadata": {
    "collapsed": false,
    "pycharm": {
     "name": "#%%\n"
    }
   }
  },
  {
   "cell_type": "code",
   "execution_count": 80,
   "outputs": [],
   "source": [
    "img = extract_frames_from_video(os.path.join(TEST_FILES_PATH,boxdf['str_filename'].iloc[0].decode('utf-8')), boxdf['n_frame'].iloc[0])"
   ],
   "metadata": {
    "collapsed": false,
    "pycharm": {
     "name": "#%%\n"
    }
   }
  },
  {
   "cell_type": "code",
   "execution_count": 81,
   "outputs": [
    {
     "data": {
      "text/plain": "True"
     },
     "execution_count": 81,
     "metadata": {},
     "output_type": "execute_result"
    }
   ],
   "source": [
    "cv2.imwrite('test.png', img)"
   ],
   "metadata": {
    "collapsed": false,
    "pycharm": {
     "name": "#%%\n"
    }
   }
  },
  {
   "cell_type": "markdown",
   "source": [
    "<img src='test.png'>\n"
   ],
   "metadata": {
    "collapsed": false,
    "pycharm": {
     "name": "#%% md\n"
    }
   }
  },
  {
   "cell_type": "code",
   "execution_count": 81,
   "outputs": [],
   "source": [],
   "metadata": {
    "collapsed": false,
    "pycharm": {
     "name": "#%%\n"
    }
   }
  },
  {
   "cell_type": "code",
   "execution_count": 82,
   "outputs": [
    {
     "data": {
      "text/plain": "<IntegerArray>\n[ 6957,  6965,  6992,  7012,  7020,  7035,  7338,  7365,  7571,  7577,  7628,\n 10796, 10913, 10916, 11623, 14521, 17780, 17786, 17807, 17981]\nLength: 20, dtype: Int64"
     },
     "execution_count": 82,
     "metadata": {},
     "output_type": "execute_result"
    }
   ],
   "source": [
    "boxdf['n_frame'].unique()"
   ],
   "metadata": {
    "collapsed": false,
    "pycharm": {
     "name": "#%%\n"
    }
   }
  },
  {
   "cell_type": "code",
   "execution_count": 84,
   "outputs": [
    {
     "name": "stdout",
     "output_type": "stream",
     "text": [
      "6957\n",
      "0\n",
      "6965\n",
      "7\n",
      "6992\n",
      "11\n",
      "7012\n",
      "19\n"
     ]
    },
    {
     "ename": "KeyboardInterrupt",
     "evalue": "",
     "output_type": "error",
     "traceback": [
      "\u001B[0;31m---------------------------------------------------------------------------\u001B[0m",
      "\u001B[0;31mKeyboardInterrupt\u001B[0m                         Traceback (most recent call last)",
      "Input \u001B[0;32mIn [84]\u001B[0m, in \u001B[0;36m<cell line: 1>\u001B[0;34m()\u001B[0m\n\u001B[1;32m      3\u001B[0m ii_loc \u001B[38;5;241m=\u001B[39m pd\u001B[38;5;241m.\u001B[39mIndex(boxdf[\u001B[38;5;124m'\u001B[39m\u001B[38;5;124mn_frame\u001B[39m\u001B[38;5;124m'\u001B[39m])\u001B[38;5;241m.\u001B[39mget_loc(frame)\u001B[38;5;241m.\u001B[39mstart \u001B[38;5;66;03m# slice object\u001B[39;00m\n\u001B[1;32m      4\u001B[0m \u001B[38;5;28mprint\u001B[39m(ii_loc)\n\u001B[0;32m----> 5\u001B[0m img \u001B[38;5;241m=\u001B[39m \u001B[43mextract_frames_from_video\u001B[49m\u001B[43m(\u001B[49m\u001B[43mos\u001B[49m\u001B[38;5;241;43m.\u001B[39;49m\u001B[43mpath\u001B[49m\u001B[38;5;241;43m.\u001B[39;49m\u001B[43mjoin\u001B[49m\u001B[43m(\u001B[49m\u001B[43mTEST_FILES_PATH\u001B[49m\u001B[43m,\u001B[49m\u001B[43m \u001B[49m\u001B[43mboxdf\u001B[49m\u001B[43m[\u001B[49m\u001B[38;5;124;43m'\u001B[39;49m\u001B[38;5;124;43mstr_filename\u001B[39;49m\u001B[38;5;124;43m'\u001B[39;49m\u001B[43m]\u001B[49m\u001B[38;5;241;43m.\u001B[39;49m\u001B[43miloc\u001B[49m\u001B[43m[\u001B[49m\u001B[43mii_loc\u001B[49m\u001B[43m]\u001B[49m\u001B[38;5;241;43m.\u001B[39;49m\u001B[43mdecode\u001B[49m\u001B[43m(\u001B[49m\u001B[38;5;124;43m'\u001B[39;49m\u001B[38;5;124;43mutf-8\u001B[39;49m\u001B[38;5;124;43m'\u001B[39;49m\u001B[43m)\u001B[49m\u001B[43m)\u001B[49m\u001B[43m,\u001B[49m\u001B[43m \u001B[49m\u001B[43mboxdf\u001B[49m\u001B[43m[\u001B[49m\u001B[38;5;124;43m'\u001B[39;49m\u001B[38;5;124;43mn_frame\u001B[39;49m\u001B[38;5;124;43m'\u001B[39;49m\u001B[43m]\u001B[49m\u001B[38;5;241;43m.\u001B[39;49m\u001B[43miloc\u001B[49m\u001B[43m[\u001B[49m\u001B[43mii_loc\u001B[49m\u001B[43m]\u001B[49m\u001B[43m)\u001B[49m\n\u001B[1;32m      6\u001B[0m cv2\u001B[38;5;241m.\u001B[39mimwrite(\u001B[38;5;124mf\u001B[39m\u001B[38;5;124m\"\u001B[39m\u001B[38;5;124mtrain/\u001B[39m\u001B[38;5;132;01m{\u001B[39;00mboxdf[\u001B[38;5;124m'\u001B[39m\u001B[38;5;124mstr_filename\u001B[39m\u001B[38;5;124m'\u001B[39m]\u001B[38;5;241m.\u001B[39miloc[ii_loc]\u001B[38;5;241m.\u001B[39mdecode(\u001B[38;5;124m'\u001B[39m\u001B[38;5;124mutf-8\u001B[39m\u001B[38;5;124m'\u001B[39m)\u001B[38;5;132;01m}\u001B[39;00m\u001B[38;5;124m_\u001B[39m\u001B[38;5;132;01m{\u001B[39;00mboxdf[\u001B[38;5;124m'\u001B[39m\u001B[38;5;124mn_frame\u001B[39m\u001B[38;5;124m'\u001B[39m]\u001B[38;5;241m.\u001B[39miloc[ii_loc]\u001B[38;5;132;01m}\u001B[39;00m\u001B[38;5;124m.png\u001B[39m\u001B[38;5;124m\"\u001B[39m, img)\n",
      "Input \u001B[0;32mIn [79]\u001B[0m, in \u001B[0;36mextract_frames_from_video\u001B[0;34m(video, frame_number)\u001B[0m\n\u001B[1;32m      2\u001B[0m \u001B[38;5;124;03m\"\"\"\u001B[39;00m\n\u001B[1;32m      3\u001B[0m \u001B[38;5;124;03mGiven a BRUVS video, extract the frame as a jpg.\u001B[39;00m\n\u001B[1;32m      4\u001B[0m \u001B[38;5;124;03m:param video:\u001B[39;00m\n\u001B[1;32m      5\u001B[0m \u001B[38;5;124;03m:param frame_number:\u001B[39;00m\n\u001B[1;32m      6\u001B[0m \u001B[38;5;124;03m:return:\u001B[39;00m\n\u001B[1;32m      7\u001B[0m \u001B[38;5;124;03m\"\"\"\u001B[39;00m\n\u001B[1;32m      8\u001B[0m vid \u001B[38;5;241m=\u001B[39m cv2\u001B[38;5;241m.\u001B[39mVideoCapture(video)\n\u001B[0;32m----> 9\u001B[0m \u001B[43mvid\u001B[49m\u001B[38;5;241;43m.\u001B[39;49m\u001B[43mset\u001B[49m\u001B[43m(\u001B[49m\u001B[38;5;241;43m1\u001B[39;49m\u001B[43m,\u001B[49m\u001B[43m \u001B[49m\u001B[43mframe_number\u001B[49m\u001B[43m \u001B[49m\u001B[38;5;241;43m-\u001B[39;49m\u001B[43m \u001B[49m\u001B[38;5;241;43m1\u001B[39;49m\u001B[43m)\u001B[49m\n\u001B[1;32m     11\u001B[0m ret, image \u001B[38;5;241m=\u001B[39m vid\u001B[38;5;241m.\u001B[39mread()\n\u001B[1;32m     12\u001B[0m \u001B[38;5;28;01mreturn\u001B[39;00m image\n",
      "\u001B[0;31mKeyboardInterrupt\u001B[0m: "
     ]
    }
   ],
   "source": [
    "for ii, frame in enumerate(boxdf['n_frame'].unique()):\n",
    "    print(frame)\n",
    "    ii_loc = pd.Index(boxdf['n_frame']).get_loc(frame).start # slice object\n",
    "    print(ii_loc)\n",
    "    img = extract_frames_from_video(os.path.join(TEST_FILES_PATH, boxdf['str_filename'].iloc[ii_loc].decode('utf-8')), boxdf['n_frame'].iloc[ii_loc])\n",
    "    cv2.imwrite(f\"train/{boxdf['str_filename'].iloc[ii_loc].decode('utf-8')}_{boxdf['n_frame'].iloc[ii_loc]}.png\", img)"
   ],
   "metadata": {
    "collapsed": false,
    "pycharm": {
     "name": "#%%\n"
    }
   }
  },
  {
   "cell_type": "code",
   "execution_count": 83,
   "outputs": [],
   "source": [],
   "metadata": {
    "collapsed": false,
    "pycharm": {
     "name": "#%%\n"
    }
   }
  },
  {
   "cell_type": "code",
   "execution_count": 83,
   "outputs": [],
   "source": [],
   "metadata": {
    "collapsed": false,
    "pycharm": {
     "name": "#%%\n"
    }
   }
  },
  {
   "cell_type": "code",
   "execution_count": 83,
   "outputs": [],
   "source": [],
   "metadata": {
    "collapsed": false,
    "pycharm": {
     "name": "#%%\n"
    }
   }
  },
  {
   "cell_type": "code",
   "execution_count": null,
   "outputs": [],
   "source": [],
   "metadata": {
    "collapsed": false,
    "pycharm": {
     "name": "#%%\n"
    }
   }
  }
 ],
 "metadata": {
  "kernelspec": {
   "display_name": "Python 3",
   "language": "python",
   "name": "python3"
  },
  "language_info": {
   "codemirror_mode": {
    "name": "ipython",
    "version": 2
   },
   "file_extension": ".py",
   "mimetype": "text/x-python",
   "name": "python",
   "nbconvert_exporter": "python",
   "pygments_lexer": "ipython2",
   "version": "2.7.6"
  }
 },
 "nbformat": 4,
 "nbformat_minor": 0
}